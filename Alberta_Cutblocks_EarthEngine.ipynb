{
 "metadata": {
  "language_info": {
   "codemirror_mode": {
    "name": "ipython",
    "version": 3
   },
   "file_extension": ".py",
   "mimetype": "text/x-python",
   "name": "python",
   "nbconvert_exporter": "python",
   "pygments_lexer": "ipython3",
   "version": "3.8.6-final"
  },
  "orig_nbformat": 2,
  "kernelspec": {
   "name": "python3",
   "display_name": "Python 3"
  }
 },
 "nbformat": 4,
 "nbformat_minor": 2,
 "cells": [
  {
   "cell_type": "code",
   "execution_count": 1,
   "metadata": {},
   "outputs": [],
   "source": [
    "# import ee\n",
    "# ee.Initialize()\n",
    "\n",
    "import geopandas as gpd\n",
    "import json\n",
    "\n",
    "cutblock_df = gpd.read_file(\"avi_cutblocks.geojson\")\n",
    "ab_df = gpd.read_file(\"alberta_boundary.geojson\")\n",
    "ab_df = ab_df.to_crs(epsg=4326)\n",
    "cutblock_df = cutblock_df.to_crs(epsg=4326)"
   ]
  },
  {
   "cell_type": "code",
   "execution_count": 20,
   "metadata": {},
   "outputs": [
    {
     "output_type": "stream",
     "name": "stderr",
     "text": [
      "<ipython-input-20-09d798df44d5>:5: UserWarning: Geometry is in a geographic CRS. Results from 'centroid' are likely incorrect. Use 'GeoSeries.to_crs()' to re-project geometries to a projected CRS before this operation.\n\n  center = (ab_df.centroid.y[0], ab_df.centroid.x[0])\n"
     ]
    },
    {
     "output_type": "display_data",
     "data": {
      "text/plain": "Map(center=[55.16984208661221, -114.51101741631778], controls=(ZoomControl(options=['position', 'zoom_in_text'…",
      "application/vnd.jupyter.widget-view+json": {
       "version_major": 2,
       "version_minor": 0,
       "model_id": "96fd225c7ccf4271a7e65e5ebabcf067"
      }
     },
     "metadata": {}
    }
   ],
   "source": [
    "from ipyleaflet import Map, GeoData, basemaps, LayersControl, projections\n",
    "\n",
    "# print(cutblock_df.head())\n",
    "\n",
    "center = (ab_df.centroid.y[0], ab_df.centroid.x[0])\n",
    "# center\n",
    "m = Map(center=center, zoom=5, basemap=basemaps.Esri.WorldImagery)\n",
    "\n",
    "boundary = GeoData(geo_dataframe = ab_df,\n",
    "                   style={'color':'blue', 'fillOpacity': 0, 'dashArray':'9', 'weight': 1},\n",
    "                   name='Alberta')\n",
    "\n",
    "cutblocks = GeoData(geo_dataframe=cutblock_df.nlargest(100, ['Shape_Area']),\n",
    "                    style={'color': 'red', 'fillOpacity': 0.2, 'weight': 1},\n",
    "                    name='Cutblocks')\n",
    "\n",
    "m.add_layer(boundary)\n",
    "m.add_layer(cutblocks)\n",
    "m"
   ]
  }
 ]
}