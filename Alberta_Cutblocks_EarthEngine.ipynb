{
 "metadata": {
  "language_info": {
   "codemirror_mode": {
    "name": "ipython",
    "version": 3
   },
   "file_extension": ".py",
   "mimetype": "text/x-python",
   "name": "python",
   "nbconvert_exporter": "python",
   "pygments_lexer": "ipython3",
   "version": "3.8.6-final"
  },
  "orig_nbformat": 2,
  "kernelspec": {
   "name": "python3",
   "display_name": "Python 3"
  }
 },
 "nbformat": 4,
 "nbformat_minor": 2,
 "cells": [
  {
   "cell_type": "code",
   "execution_count": 1,
   "metadata": {},
   "outputs": [],
   "source": [
    "import geopandas as gpd\n",
    "import json\n",
    "\n",
    "cutblock_df = gpd.read_file(\"alberta_cutblocks.shp\")\n",
    "ab_df = gpd.read_file(\"alberta_boundary.shp\")\n",
    "ab_df = ab_df.to_crs(epsg=4326)\n",
    "cutblock_df = cutblock_df.to_crs(epsg=4326)"
   ]
  },
  {
   "cell_type": "code",
   "execution_count": 25,
   "metadata": {},
   "outputs": [
    {
     "output_type": "stream",
     "name": "stderr",
     "text": [
      "<ipython-input-25-d5e55c021c2f>:4: UserWarning: Geometry is in a geographic CRS. Results from 'centroid' are likely incorrect. Use 'GeoSeries.to_crs()' to re-project geometries to a projected CRS before this operation.\n\n  fmu.centroid\n"
     ]
    },
    {
     "output_type": "execute_result",
     "data": {
      "text/plain": [
       "FMU_NAME\n",
       "S10    POINT (-115.33920 56.43031)\n",
       "dtype: geometry"
      ]
     },
     "metadata": {},
     "execution_count": 25
    }
   ],
   "source": [
    "fmu_name = \"S10\"\n",
    "fmu = cutblock_df.query(f\"FMU_NAME=='{fmu_name}'\")\n",
    "fmu = fmu.dissolve(by='FMU_NAME')\n",
    "fmu.centroid"
   ]
  },
  {
   "cell_type": "code",
   "execution_count": 26,
   "metadata": {},
   "outputs": [
    {
     "output_type": "stream",
     "name": "stderr",
     "text": [
      "<ipython-input-26-9dc8fdc950dd>:3: UserWarning: Geometry is in a geographic CRS. Results from 'centroid' are likely incorrect. Use 'GeoSeries.to_crs()' to re-project geometries to a projected CRS before this operation.\n\n  center = (fmu.centroid.y[0], fmu.centroid.x[0])\n"
     ]
    },
    {
     "output_type": "display_data",
     "data": {
      "text/plain": "Map(center=[56.430310735908186, -115.33919575047233], controls=(ZoomControl(options=['position', 'zoom_in_text…",
      "application/vnd.jupyter.widget-view+json": {
       "version_major": 2,
       "version_minor": 0,
       "model_id": "8714073f3af0461a91d25e438590d97d"
      }
     },
     "metadata": {}
    }
   ],
   "source": [
    "from ipyleaflet import Map, GeoData, basemaps, ScaleControl, projections\n",
    "\n",
    "center = (fmu.centroid.y[0], fmu.centroid.x[0])\n",
    "# center\n",
    "m = Map(center=center, zoom=9.5, basemap=basemaps.Esri.WorldImagery)\n",
    "\n",
    "cutblocks = GeoData(geo_dataframe=fmu,\n",
    "                    style={'color': 'red', 'fillOpacity': 0, 'weight': 1},\n",
    "                    name=f'Cutblocks (FMU = {fmu_name})')\n",
    "\n",
    "m.add_layer(cutblocks)\n",
    "m.add_control(ScaleControl(position='bottomleft'))\n",
    "m"
   ]
  },
  {
   "cell_type": "code",
   "execution_count": null,
   "metadata": {},
   "outputs": [],
   "source": [
    "# import ee\n",
    "# ee.Initialize()"
   ]
  }
 ]
}