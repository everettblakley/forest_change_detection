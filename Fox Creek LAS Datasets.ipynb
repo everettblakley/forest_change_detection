{
 "cells": [
  {
   "cell_type": "code",
   "execution_count": null,
   "metadata": {},
   "outputs": [],
   "source": [
    "import os\n",
    "import subprocess"
   ]
  },
  {
   "cell_type": "code",
   "execution_count": null,
   "metadata": {},
   "outputs": [],
   "source": [
    "src_dir = r\"E:\\GIS Data\\FoxCreek_LiDAR\\FoxCreek_58-25-W5\\point_cloud_las\"\n",
    "las_files = [f for f in os.listdir(src_dir) if f.split(\".\")[1] == \"las\"]"
   ]
  },
  {
   "cell_type": "code",
   "execution_count": null,
   "metadata": {},
   "outputs": [],
   "source": [
    "las_tools_bin = r\"C:\\Program Files\\LAStools\\bin\"\n",
    "las_info = os.path.join(las_tools_bin, \"lasinfo.exe\")"
   ]
  },
  {
   "cell_type": "code",
   "execution_count": null,
   "metadata": {},
   "outputs": [],
   "source": [
    "info_files = []\n",
    "\n",
    "for file in las_files:\n",
    "    name = file.split(\".\")[0]\n",
    "    txt_file = name + \".txt\"\n",
    "    if not os.path.exists(os.path.join(src_dir, txt_file)):\n",
    "        cmd = [las_info,\"-i\",os.path.join(src_dir, file),\"-otxt\",\n",
    "              \"-odir\",src_dir,\"-cd\",\"-histo\",\"classification\",\"1\",]\n",
    "        subprocess.run(cmd)\n",
    "        print(f\"Done with {file}\")\n",
    "    info_files.append(txt_file)"
   ]
  },
  {
   "cell_type": "code",
   "execution_count": null,
   "metadata": {},
   "outputs": [],
   "source": [
    "min_header = \"min x y z:\"\n",
    "max_header = \"max x y z:\"\n",
    "\n",
    "extents = []\n",
    "\n",
    "def get_value_by_header(line, header):\n",
    "    index = line.find(header)\n",
    "    if index == -1:\n",
    "        return None\n",
    "    return tuple(float(v) for v in line[index+len(header):].strip().split(\" \"))\n",
    "\n",
    "for file in info_files:\n",
    "    with open(os.path.join(src_dir, file), 'r') as info:\n",
    "        extent = {\"file\": file, \"min\": [], \"max\": []}\n",
    "        for line in info:\n",
    "            min_value = get_value_by_header(line, min_header)\n",
    "            if min_value:\n",
    "                extent[\"min\"] = min_value\n",
    "            else:\n",
    "                max_value = get_value_by_header(line, max_header)\n",
    "                if max_value:\n",
    "                    extent[\"max\"] = max_value\n",
    "        extents.append(extent)"
   ]
  },
  {
   "cell_type": "code",
   "execution_count": null,
   "metadata": {},
   "outputs": [],
   "source": [
    "import pandas as pd\n",
    "import geopandas as gpd\n",
    "import matplotlib.pyplot as plt\n",
    "from shapely.geometry import Point, Polygon\n",
    "\n",
    "projection = \"EPSG:2955\" # NAD83 CSRS UTM 11N\n",
    "polygons = []\n",
    "for e in extents:\n",
    "    bottom_left = (e[\"min\"][0], e[\"min\"][1])\n",
    "    top_left = (e[\"min\"][0], e[\"max\"][1])\n",
    "    top_right = (e[\"max\"][0], e[\"max\"][1])\n",
    "    bottom_right = (e[\"max\"][0], e[\"min\"][1])\n",
    "    polygon = Polygon([bottom_left, top_left, top_right, bottom_right])\n",
    "    polygons.append(polygon)\n",
    "\n",
    "df = gpd.GeoDataFrame(geometry=gpd.GeoSeries(polygons), crs=projection)\n",
    "df.to_file(\"lidar_tiles.shp\")"
   ]
  },
  {
   "cell_type": "code",
   "execution_count": null,
   "metadata": {},
   "outputs": [],
   "source": [
    "import contextily as ctx\n",
    "df = df.to_crs(epsg=3857)\n",
    "ax = df.plot(figsize=(10,10), alpha=0.5, edgecolor='k')\n",
    "ctx.add_basemap(ax, )#source=ctx.providers.Esri.WorldImagery, zoom=7)\n",
    "# ctx.providers.Esri.keys()"
   ]
  },
  {
   "cell_type": "code",
   "execution_count": null,
   "metadata": {},
   "outputs": [],
   "source": []
  }
 ],
 "metadata": {
  "kernelspec": {
   "display_name": "env",
   "language": "python",
   "name": "env"
  },
  "language_info": {
   "codemirror_mode": {
    "name": "ipython",
    "version": 3
   },
   "file_extension": ".py",
   "mimetype": "text/x-python",
   "name": "python",
   "nbconvert_exporter": "python",
   "pygments_lexer": "ipython3",
   "version": "3.9.0-final"
  }
 },
 "nbformat": 4,
 "nbformat_minor": 4
}
