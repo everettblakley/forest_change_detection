{
 "cells": [
  {
   "cell_type": "code",
   "execution_count": 1,
   "metadata": {},
   "outputs": [],
   "source": [
    "import geopandas as gpd\n",
    "import json\n",
    "\n",
    "cutblock_df = gpd.read_file(\"data/alberta_cutblocks.shp\")\n",
    "ab_df = gpd.read_file(\"data/alberta_boundary.shp\")"
   ]
  },
  {
   "cell_type": "code",
   "execution_count": 2,
   "metadata": {},
   "outputs": [
    {
     "data": {
      "text/plain": [
       "FMU_NAME\n",
       "S10    POINT (479085.290 6251500.838)\n",
       "dtype: geometry"
      ]
     },
     "execution_count": 2,
     "metadata": {},
     "output_type": "execute_result"
    }
   ],
   "source": [
    "fmu_name = \"S10\"\n",
    "fmu = cutblock_df.query(f\"FMU_NAME=='{fmu_name}'\")\n",
    "fmu = fmu.dissolve(by='FMU_NAME')\n",
    "fmu.centroid"
   ]
  },
  {
   "cell_type": "code",
   "execution_count": 16,
   "metadata": {},
   "outputs": [
    {
     "data": {
      "application/vnd.jupyter.widget-view+json": {
       "model_id": "5b56efb87325413287f110ebfa3fbdb5",
       "version_major": 2,
       "version_minor": 0
      },
      "text/plain": [
       "Map(center=[56.43011435490825, -115.33925705022092], controls=(ZoomControl(options=['position', 'zoom_in_text'…"
      ]
     },
     "metadata": {},
     "output_type": "display_data"
    }
   ],
   "source": [
    "from ipyleaflet import Map, GeoData, basemaps, ScaleControl, projections\n",
    "from ipywidgets import Layout\n",
    "\n",
    "centroid = fmu.centroid.to_crs(epsg=4326) # Get the centroid of the fmu in decimal degrees\n",
    "center = centroid[0] # get the first point\n",
    "center = (center.y, center.x) # Convert it lat, lon\n",
    "\n",
    "# center\n",
    "m = Map(center=center, zoom=9.5, basemap=basemaps.Esri.WorldImagery, layout=Layout(width=\"100%\", height=\"800px\"))\n",
    "\n",
    "cutblocks = GeoData(geo_dataframe=fmu.to_crs(epsg=4326),\n",
    "                    style={'color': '#00FF00', 'fillOpacity': 0, 'weight': 3},\n",
    "                    name=f'Cutblocks (FMU = {fmu_name})')\n",
    "\n",
    "m.add_layer(cutblocks)\n",
    "m.add_control(ScaleControl(position='bottomleft'))\n",
    "m"
   ]
  },
  {
   "cell_type": "code",
   "execution_count": 4,
   "metadata": {},
   "outputs": [
    {
     "data": {
      "text/plain": [
       "<ee.image.Image at 0x17410d23b20>"
      ]
     },
     "execution_count": 4,
     "metadata": {},
     "output_type": "execute_result"
    }
   ],
   "source": [
    "import ee\n",
    "ee.Initialize()\n",
    "gfc = ee.Image(\"UMD/hansen/global_forest_change_2019_v1_7\")\n",
    "gfc"
   ]
  },
  {
   "cell_type": "code",
   "execution_count": 5,
   "metadata": {},
   "outputs": [],
   "source": [
    "vis_params = {\n",
    "    \"bands\": [\"lossyear\"],\n",
    "    \"min\": 0,\n",
    "    \"max\": 19,\n",
    "    \"palette\": [\"yellow\", \"red\"]\n",
    "}\n",
    "\n",
    "url = gfc.getMapId(vis_params)[\"tile_fetcher\"].url_format"
   ]
  },
  {
   "cell_type": "code",
   "execution_count": 12,
   "metadata": {},
   "outputs": [
    {
     "data": {
      "application/vnd.jupyter.widget-view+json": {
       "model_id": "bbb6f88428894ee28ad95c10a401a5a8",
       "version_major": 2,
       "version_minor": 0
      },
      "text/plain": [
       "Map(bottom=162219.0, center=[56.47349032530144, -115.33550262451173], controls=(ZoomControl(options=['position…"
      ]
     },
     "metadata": {},
     "output_type": "display_data"
    }
   ],
   "source": [
    "from ipyleaflet import TileLayer\n",
    "tile_layer = TileLayer(url=url)\n",
    "m.add_layer(tile_layer)\n",
    "m"
   ]
  }
 ],
 "metadata": {
  "kernelspec": {
   "display_name": "Python 3",
   "language": "python",
   "name": "python3"
  },
  "language_info": {
   "codemirror_mode": {
    "name": "ipython",
    "version": 3
   },
   "file_extension": ".py",
   "mimetype": "text/x-python",
   "name": "python",
   "nbconvert_exporter": "python",
   "pygments_lexer": "ipython3",
   "version": "3.8.6"
  }
 },
 "nbformat": 4,
 "nbformat_minor": 2
}
